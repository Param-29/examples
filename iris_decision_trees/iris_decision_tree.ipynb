{
 "cells": [
  {
   "cell_type": "code",
   "execution_count": 1,
   "metadata": {},
   "outputs": [
    {
     "name": "stderr",
     "output_type": "stream",
     "text": [
      "IncrementalExecutor::executeFunction: symbol '__emutls_v._ZN4arma23arma_rng_cxx11_instanceE' unresolved while linking function '_GLOBAL__sub_I_cling_module_8'!\n"
     ]
    }
   ],
   "source": [
    "#include<iostream>\n",
    "#include <mlpack/prereqs.hpp>\n",
    "#include<mlpack/methods/decision_tree/decision_tree.hpp>\n",
    "#include <mlpack/core.hpp>\n",
    "#include <mlpack/core/data/split_data.hpp>\n",
    "using namespace std;\n",
    "using namespace mlpack;\n",
    "using namespace mlpack::tree;\n",
    "\n",
    "  double RATIO = 0.1;\n",
    "\t\n",
    "\t// Labeled dataset that contains data for training is loaded from CSV file,\n",
    "  // rows represent features, columns represent data points.\n",
    "  arma::mat dataset;\n",
    "  data::Load(\"iris_data.csv\", dataset, true);\n",
    "\n",
    "arma::Row<size_t> labels =\n",
    "    arma::conv_to<arma::Row<size_t>>::from(dataset.row(dataset.n_rows - 1));\n",
    "dataset.shed_row(dataset.n_rows - 1);\n",
    "\n",
    "arma::mat trainSet, testSet;\n",
    "arma::Row<size_t> trainLabels, testLabels;\n",
    "\n",
    "// Split dataset randomly into training set and test set.\n",
    "data::Split(dataset, labels, trainSet, testSet, trainLabels, testLabels,\n",
    "    0.3 /* Percentage of dataset to use for test set. */);"
   ]
  },
  {
   "cell_type": "code",
   "execution_count": null,
   "metadata": {},
   "outputs": [],
   "source": []
  },
  {
   "cell_type": "code",
   "execution_count": null,
   "metadata": {},
   "outputs": [],
   "source": []
  }
 ],
 "metadata": {
  "kernelspec": {
   "display_name": "C++11",
   "language": "C++11",
   "name": "xcpp11"
  },
  "language_info": {
   "codemirror_mode": "text/x-c++src",
   "file_extension": ".cpp",
   "mimetype": "text/x-c++src",
   "name": "c++",
   "version": "11"
  }
 },
 "nbformat": 4,
 "nbformat_minor": 2
}
